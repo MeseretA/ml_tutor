{
  "nbformat": 4,
  "nbformat_minor": 0,
  "metadata": {
    "colab": {
      "name": "ml_tutor iris classification.ipynb",
      "provenance": [],
      "collapsed_sections": [],
      "authorship_tag": "ABX9TyPd0pAyYgjZT60DDZoAcdGU",
      "include_colab_link": true
    },
    "kernelspec": {
      "name": "python3",
      "display_name": "Python 3"
    }
  },
  "cells": [
    {
      "cell_type": "markdown",
      "metadata": {
        "id": "view-in-github",
        "colab_type": "text"
      },
      "source": [
        "<a href=\"https://colab.research.google.com/github/Sharan-Babu/ml_tutor/blob/master/examples/ml_tutor_iris_classification.ipynb\" target=\"_parent\"><img src=\"https://colab.research.google.com/assets/colab-badge.svg\" alt=\"Open In Colab\"/></a>"
      ]
    },
    {
      "cell_type": "markdown",
      "metadata": {
        "id": "lLb9R34-uy9Z"
      },
      "source": [
        "# Example Notebook\n",
        "Learn how to use ml_tutor library."
      ]
    },
    {
      "cell_type": "code",
      "metadata": {
        "id": "RUMp_OBewLUw",
        "outputId": "43170ffd-fa9f-4da7-838a-88d16b704d61",
        "colab": {
          "base_uri": "https://localhost:8080/",
          "height": 507
        }
      },
      "source": [
        "# Install library with pip\n",
        "!pip install ml-tutor"
      ],
      "execution_count": 1,
      "outputs": [
        {
          "output_type": "stream",
          "text": [
            "Collecting ml-tutor\n",
            "  Downloading https://files.pythonhosted.org/packages/a6/fd/03e6b7d6c181f398886d07214a4e5a5adbf0491c3087cb0c2fefe5045bc4/ml_tutor-1.0.2.tar.gz\n",
            "Requirement already satisfied: matplotlib>=3.2.1 in /usr/local/lib/python3.6/dist-packages (from ml-tutor) (3.2.2)\n",
            "Requirement already satisfied: pandas>=0.25.1 in /usr/local/lib/python3.6/dist-packages (from ml-tutor) (1.1.2)\n",
            "Requirement already satisfied: numpy>=1.18.1 in /usr/local/lib/python3.6/dist-packages (from ml-tutor) (1.18.5)\n",
            "Collecting scikit_learn>=0.23.2\n",
            "\u001b[?25l  Downloading https://files.pythonhosted.org/packages/5c/a1/273def87037a7fb010512bbc5901c31cfddfca8080bc63b42b26e3cc55b3/scikit_learn-0.23.2-cp36-cp36m-manylinux1_x86_64.whl (6.8MB)\n",
            "\u001b[K     |████████████████████████████████| 6.8MB 9.5MB/s \n",
            "\u001b[?25hRequirement already satisfied: python-dateutil>=2.1 in /usr/local/lib/python3.6/dist-packages (from matplotlib>=3.2.1->ml-tutor) (2.8.1)\n",
            "Requirement already satisfied: kiwisolver>=1.0.1 in /usr/local/lib/python3.6/dist-packages (from matplotlib>=3.2.1->ml-tutor) (1.2.0)\n",
            "Requirement already satisfied: cycler>=0.10 in /usr/local/lib/python3.6/dist-packages (from matplotlib>=3.2.1->ml-tutor) (0.10.0)\n",
            "Requirement already satisfied: pyparsing!=2.0.4,!=2.1.2,!=2.1.6,>=2.0.1 in /usr/local/lib/python3.6/dist-packages (from matplotlib>=3.2.1->ml-tutor) (2.4.7)\n",
            "Requirement already satisfied: pytz>=2017.2 in /usr/local/lib/python3.6/dist-packages (from pandas>=0.25.1->ml-tutor) (2018.9)\n",
            "Requirement already satisfied: joblib>=0.11 in /usr/local/lib/python3.6/dist-packages (from scikit_learn>=0.23.2->ml-tutor) (0.16.0)\n",
            "Collecting threadpoolctl>=2.0.0\n",
            "  Downloading https://files.pythonhosted.org/packages/f7/12/ec3f2e203afa394a149911729357aa48affc59c20e2c1c8297a60f33f133/threadpoolctl-2.1.0-py3-none-any.whl\n",
            "Requirement already satisfied: scipy>=0.19.1 in /usr/local/lib/python3.6/dist-packages (from scikit_learn>=0.23.2->ml-tutor) (1.4.1)\n",
            "Requirement already satisfied: six>=1.5 in /usr/local/lib/python3.6/dist-packages (from python-dateutil>=2.1->matplotlib>=3.2.1->ml-tutor) (1.15.0)\n",
            "Building wheels for collected packages: ml-tutor\n",
            "  Building wheel for ml-tutor (setup.py) ... \u001b[?25l\u001b[?25hdone\n",
            "  Created wheel for ml-tutor: filename=ml_tutor-1.0.2-cp36-none-any.whl size=34532 sha256=f60e2fc705ca46d192a9c4f12bccc297c6109b8ad63241823d49fc38ba9e5aa7\n",
            "  Stored in directory: /root/.cache/pip/wheels/aa/e9/e6/875e152aa7aac725fd20d1e8eb596bb44982af72b7e8ca20bf\n",
            "Successfully built ml-tutor\n",
            "Installing collected packages: threadpoolctl, scikit-learn, ml-tutor\n",
            "  Found existing installation: scikit-learn 0.22.2.post1\n",
            "    Uninstalling scikit-learn-0.22.2.post1:\n",
            "      Successfully uninstalled scikit-learn-0.22.2.post1\n",
            "Successfully installed ml-tutor-1.0.2 scikit-learn-0.23.2 threadpoolctl-2.1.0\n"
          ],
          "name": "stdout"
        }
      ]
    },
    {
      "cell_type": "code",
      "metadata": {
        "id": "FrhbdI44uE50"
      },
      "source": [
        "# Import iris flower dataset\n",
        "from sklearn.datasets import load_iris\n",
        "\n",
        "# Necessary import for splitting your data\n",
        "from sklearn.model_selection import train_test_split\n",
        "\n",
        "# Load and split dataset\n",
        "dataset = load_iris()\n",
        "X_train, X_test, y_train, y_test = train_test_split(dataset.data, dataset.target, test_size=0.2)"
      ],
      "execution_count": 2,
      "outputs": []
    },
    {
      "cell_type": "code",
      "metadata": {
        "id": "Bo4F3TtR5wvR",
        "outputId": "ebaaeaa9-6f70-4359-f531-2088c0002373",
        "colab": {
          "base_uri": "https://localhost:8080/",
          "height": 101
        }
      },
      "source": [
        "# Display first 5 input values\n",
        "dataset.data[:5]"
      ],
      "execution_count": 3,
      "outputs": [
        {
          "output_type": "execute_result",
          "data": {
            "text/plain": [
              "array([[5.1, 3.5, 1.4, 0.2],\n",
              "       [4.9, 3. , 1.4, 0.2],\n",
              "       [4.7, 3.2, 1.3, 0.2],\n",
              "       [4.6, 3.1, 1.5, 0.2],\n",
              "       [5. , 3.6, 1.4, 0.2]])"
            ]
          },
          "metadata": {
            "tags": []
          },
          "execution_count": 3
        }
      ]
    },
    {
      "cell_type": "code",
      "metadata": {
        "id": "fuBRntnP57L8",
        "outputId": "f6da492d-760b-4570-cb97-2329ff88941a",
        "colab": {
          "base_uri": "https://localhost:8080/",
          "height": 34
        }
      },
      "source": [
        "# Display first 5 target labels\n",
        "dataset.target[:5]"
      ],
      "execution_count": 4,
      "outputs": [
        {
          "output_type": "execute_result",
          "data": {
            "text/plain": [
              "array([0, 0, 0, 0, 0])"
            ]
          },
          "metadata": {
            "tags": []
          },
          "execution_count": 4
        }
      ]
    },
    {
      "cell_type": "code",
      "metadata": {
        "id": "c2fDV-Ok6BwE",
        "outputId": "40132df2-78d1-4e01-ce3b-1f0d1049b986",
        "colab": {
          "base_uri": "https://localhost:8080/",
          "height": 34
        }
      },
      "source": [
        "# Target labels\n",
        "dataset.target_names"
      ],
      "execution_count": 5,
      "outputs": [
        {
          "output_type": "execute_result",
          "data": {
            "text/plain": [
              "array(['setosa', 'versicolor', 'virginica'], dtype='<U10')"
            ]
          },
          "metadata": {
            "tags": []
          },
          "execution_count": 5
        }
      ]
    },
    {
      "cell_type": "markdown",
      "metadata": {
        "id": "ZlPD1bMlv8yY"
      },
      "source": [
        "# KMeans for unsupervised clustering of flower classes"
      ]
    },
    {
      "cell_type": "code",
      "metadata": {
        "id": "LByBw-I-vv6A",
        "outputId": "0f67facd-23ab-45d2-9fef-25c523faf5e3",
        "colab": {
          "base_uri": "https://localhost:8080/",
          "height": 624
        }
      },
      "source": [
        "# import KMeans algorithm from ml_tutor\n",
        "from ml_tutor.clustering.kmeans import KMeans\n",
        "\n",
        "# Train algorithm and visualize the process in real time\n",
        "clf = KMeans(n_clusters=3, visual_training=True)\n",
        "clf.fit(X_train)"
      ],
      "execution_count": 6,
      "outputs": [
        {
          "output_type": "display_data",
          "data": {
            "text/plain": [
              "<Figure size 432x288 with 0 Axes>"
            ]
          },
          "metadata": {
            "tags": []
          }
        },
        {
          "output_type": "display_data",
          "data": {
            "image/png": "[encoded data removed]",
            "text/plain": [
              "<Figure size 864x720 with 1 Axes>"
            ]
          },
          "metadata": {
            "tags": [],
            "needs_background": "light"
          }
        }
      ]
    },
    {
      "cell_type": "code",
      "metadata": {
        "id": "iKjvvTvT0Z3u",
        "outputId": "9ba439ec-f553-4e75-c426-11306454ac9f",
        "colab": {
          "base_uri": "https://localhost:8080/",
          "height": 858
        }
      },
      "source": [
        "# Learn the theory behind each algorithm directly from your work environment.\n",
        "from ml_tutor.clustering.kmeans import KMeans\n",
        "\n",
        "clf = KMeans(n_clusters=3)\n",
        "clf.how_it_works()"
      ],
      "execution_count": 7,
      "outputs": [
        {
          "output_type": "display_data",
          "data": {
            "text/html": [
              "\n",
              "<div>\n",
              "<h1>Understanding K-means Clustering in Machine Learning</h1>\n",
              "<br>\n",
              "<br>\n",
              "\n",
              "<p>\n",
              "\n",
              "<br><br>K-means clustering is one of the simplest and popular unsupervised machine learning algorithms.\n",
              "<br><br>Typically, unsupervised algorithms make inferences from datasets using only input vectors without referring to known, or labelled, outcomes.\n",
              "<br><br>A cluster refers to a collection of data points aggregated together because of certain similarities.\n",
              "<br><br>You’ll define a target number k, which refers to the number of centroids you need in the dataset. A centroid is the imaginary or real location representing the center of the cluster.\n",
              "<br><br>Every data point is allocated to each of the clusters through reducing the in-cluster sum of squares.\n",
              "<br><br>In other words, the K-means algorithm identifies k number of centroids, and then allocates every data point to the nearest cluster, while keeping the centroids as small as possible.\n",
              "<br><br>The ‘means’ in the K-means refers to averaging of the data; that is, finding the centroid.\n",
              "\n",
              "<br><br><br><br><h2>How the K-means algorithm works</h2><br><br>\n",
              "<br><br>To process the learning data, the K-means algorithm in data mining starts with a first group of randomly selected centroids, which are used as the beginning points for every cluster, and then performs iterative (repetitive) calculations to optimize the positions of the centroids\n",
              "<br><br>It halts creating and optimizing clusters when either:<br><br><br><br>\n",
              "    The centroids have stabilized — there is no change in their values because the clustering has been successful.\n",
              "    <br><br>The defined number of iterations has been achieved.\n",
              "<br><br>\n",
              "</p>\n",
              "\n",
              "\n",
              "\n",
              "<h1>Author and source:</h1>\n",
              "<h2>Author: <a target=\"_blank\" href=\"https://towardsdatascience.com/@ledumjg\">Dr. Michael J. Garbade</a></h2>\n",
              "<h2>To find more resources go to the source of the post: <a target=\"_blank\" href=\"https://towardsdatascience.com/understanding-k-means-clustering-in-machine-learning-6a6e67336aa1\">Towards data science post</a></h2>\n",
              "\n",
              "</div>\n"
            ],
            "text/plain": [
              "<IPython.core.display.HTML object>"
            ]
          },
          "metadata": {
            "tags": []
          }
        }
      ]
    },
    {
      "cell_type": "code",
      "metadata": {
        "id": "X-QUPmHq1Xxp",
        "outputId": "5168301b-5074-43bc-80d1-fe24fcab5ffa",
        "colab": {
          "base_uri": "https://localhost:8080/",
          "height": 91
        }
      },
      "source": [
        "# Display interview questions related to a specific algorithm\n",
        "from ml_tutor.clustering.kmeans import KMeans\n",
        "\n",
        "clf = KMeans(n_clusters=3)\n",
        "clf.interview_questions()"
      ],
      "execution_count": 8,
      "outputs": [
        {
          "output_type": "display_data",
          "data": {
            "text/html": [
              "\n",
              "<h1> K-Means Interview Questions </h1>\n",
              "\n",
              "Quiz like questions: <a href=\"https://www.analyticsvidhya.com/blog/2017/02/test-data-scientist-clustering/\" target=\"_blank\">link</a>\t\n"
            ],
            "text/plain": [
              "<IPython.core.display.HTML object>"
            ]
          },
          "metadata": {
            "tags": []
          }
        }
      ]
    },
    {
      "cell_type": "markdown",
      "metadata": {
        "id": "W8hcGQ5jycu5"
      },
      "source": [
        "# K Nearest Neighbours Classification\n"
      ]
    },
    {
      "cell_type": "code",
      "metadata": {
        "id": "uvySig09wtpl",
        "outputId": "03b1c934-08cd-45dd-ee08-87d2c5b2e0a2",
        "colab": {
          "base_uri": "https://localhost:8080/",
          "height": 407
        }
      },
      "source": [
        "# Import KNN algorithm from ml_tutor\n",
        "from ml_tutor.classification.knn import KNeighbourClassifier\n",
        "\n",
        "# Train algorithm and visualize the process in real time\n",
        "clf = KNeighbourClassifier(n_neighbors=5, visual_training=True, number_of_visual_steps=2)\n",
        "clf.fit(X_train, y_train)\n",
        "\n",
        "predictions = clf.predict(X_test)"
      ],
      "execution_count": 9,
      "outputs": [
        {
          "output_type": "display_data",
          "data": {
            "text/plain": [
              "<Figure size 432x288 with 0 Axes>"
            ]
          },
          "metadata": {
            "tags": []
          }
        },
        {
          "output_type": "display_data",
          "data": {
            "image/png": "[encoded data removed]",
            "text/plain": [
              "<Figure size 576x432 with 1 Axes>"
            ]
          },
          "metadata": {
            "tags": [],
            "needs_background": "light"
          }
        }
      ]
    },
    {
      "cell_type": "code",
      "metadata": {
        "id": "U1y2Q5hay4GD",
        "outputId": "f678995f-e4bc-4433-cd36-2cb725eca47f",
        "colab": {
          "base_uri": "https://localhost:8080/",
          "height": 1000
        }
      },
      "source": [
        "# Learn the theory behind each algorithm directly from your work environment.\n",
        "from ml_tutor.classification.knn import KNeighbourClassifier\n",
        "\n",
        "# Function for displaying tutorial\n",
        "clf = KNeighbourClassifier()\n",
        "clf.how_it_works()"
      ],
      "execution_count": 10,
      "outputs": [
        {
          "output_type": "display_data",
          "data": {
            "text/html": [
              "\n",
              "<div>\n",
              "<h1>Machine Learning Basics with the K-Nearest Neighbors Algorithm</h1>\n",
              "<br>\n",
              "<br>\n",
              "\n",
              "<p>\n",
              "\n",
              "<h2>K-Nearest Neighbors</h2><br><br>\n",
              "The KNN algorithm assumes that similar things exist in close proximity. In other words, similar things are near to each other.\n",
              "<br><br>\n",
              "<img src=\"https://miro.medium.com/max/672/1*wW8O-0xVQUFhBGexx2B6hg.png\">\n",
              "\n",
              "<br><br>\n",
              "Notice in the image above that most of the time, similar data points are close to each other. The KNN algorithm hinges on this assumption being true enough for the algorithm to be useful. KNN captures the idea of similarity (sometimes called distance, proximity, or closeness) with some mathematics we might have learned in our childhood— calculating the distance between points on a graph.\n",
              "<br><br>Note: An understanding of how we calculate the distance between points on a graph is necessary before moving on. If you are unfamiliar with or need a refresher on how this calculation is done, thoroughly read “Distance Between 2 Points” in its entirety, and come right back.\n",
              "<br><br>There are other ways of calculating distance, and one way might be preferable depending on the problem we are solving. However, the straight-line distance (also called the Euclidean distance) is a popular and familiar choice.\n",
              "<br><br>\n",
              "<h2>The KNN Algorithm</h2> <br><br><br><br>\n",
              "    1. Load the data <br><br>\n",
              "    2. Initialize K to your chosen number of neighbors <br><br>\n",
              "    3. For each example in the data <br><br>\n",
              "        3.1 Calculate the distance between the query example and the current example from the data. <br><br>\n",
              "        3.2 Add the distance and the index of the example to an ordered collection <br><br>\n",
              "    4. Sort the ordered collection of distances and indices from smallest to largest (in ascending order) by the distances <br><br>\n",
              "    5. Pick the first K entries from the sorted collection <br><br>\n",
              "    6. Get the labels of the selected K entries <br><br>\n",
              "    7. If regression, return the mean of the K labels <br><br>\n",
              "    8. If classification, return the mode of the K labels <br><br>\n",
              "<br><br>\n",
              "<h2>Choosing the right value for K</h2> <br><br><br><br>\n",
              "To select the K that’s right for your data, we run the KNN algorithm several times with different values of K and choose the K that reduces the number of errors we encounter while maintaining the algorithm’s ability to accurately make predictions when it’s given data it hasn’t seen before.\n",
              "<br><br><br><br>Here are some things to keep in mind:\n",
              "<br><br>    1. As we decrease the value of K to 1, our predictions become less stable. Just think for a minute, imagine K=1 and we have a query point surrounded by several reds and one green (I’m thinking about the top left corner of the colored plot above), but the green is the single nearest neighbor. Reasonably, we would think the query point is most likely red, but because K=1, KNN incorrectly predicts that the query point is green.\n",
              "<br><br>    2. Inversely, as we increase the value of K, our predictions become more stable due to majority voting / averaging, and thus, more likely to make more accurate predictions (up to a certain point). Eventually, we begin to witness an increasing number of errors. It is at this point we know we have pushed the value of K too far.\n",
              "<br><br>    3. In cases where we are taking a majority vote (e.g. picking the mode in a classification problem) among labels, we usually make K an odd number to have a tiebreaker.\n",
              "<br><br><br><br><h2>Advantages</h2><br><br>\n",
              "<br><br>    1. The algorithm is simple and easy to implement.\n",
              "<br><br>    2. There’s no need to build a model, tune several parameters, or make additional assumptions.\n",
              "<br><br>    3. The algorithm is versatile. It can be used for classification, regression, and search (as we will see in the next section).\n",
              "<br><br><br><br><h2>Disadvantages</h2><br><br>\n",
              "    1. The algorithm gets significantly slower as the number of examples and/or predictors/independent variables increase.\n",
              "</p>\n",
              "\n",
              "\n",
              "\n",
              "<h1>Author and source:</h1>\n",
              "<h2>Author: <a target=\"_blank\" href=\"https://twitter.com/onelharrison\">Onel Harrison</a></h2>\n",
              "<h2>To find more resources go to the source of the post: <a target=\"_blank\" href=\"https://towardsdatascience.com/machine-learning-basics-with-the-k-nearest-neighbors-algorithm-6a6e71d01761\">Towards data science post</a></h2>\n",
              "\n",
              "</div>\n"
            ],
            "text/plain": [
              "<IPython.core.display.HTML object>"
            ]
          },
          "metadata": {
            "tags": []
          }
        }
      ]
    },
    {
      "cell_type": "code",
      "metadata": {
        "id": "QHbQcnNPzJ09",
        "outputId": "d2defd64-fa43-4bd6-be3e-922caec24624",
        "colab": {
          "base_uri": "https://localhost:8080/",
          "height": 393
        }
      },
      "source": [
        "# Code for video tutorial of an algorithm\n",
        "from ml_tutor.classification.knn import KNeighbourClassifier\n",
        "\n",
        "clf = KNeighbourClassifier()\n",
        "clf.how_it_works(video=True)"
      ],
      "execution_count": 11,
      "outputs": [
        {
          "output_type": "display_data",
          "data": {
            "text/html": [
              "\n",
              "<div>\n",
              "<h1> K-Nearest Neighbors - How it works? </h1>\n",
              "<iframe width=\"560\" height=\"315\" src=\"https://www.youtube.com/embed/44jq6ano5n0\" frameborder=\"0\" allow=\"accelerometer; autoplay; encrypted-media; gyroscope; picture-in-picture\" allowfullscreen></iframe>\n",
              "</div>\n"
            ],
            "text/plain": [
              "<IPython.core.display.HTML object>"
            ]
          },
          "metadata": {
            "tags": []
          }
        }
      ]
    },
    {
      "cell_type": "code",
      "metadata": {
        "id": "qElO8b8ozmP9",
        "outputId": "e9246eca-3296-4de1-b1fd-a2a8f93ee4f9",
        "colab": {
          "base_uri": "https://localhost:8080/",
          "height": 1000
        }
      },
      "source": [
        "# Display interview questions related to a specific algorithm\n",
        "from ml_tutor.classification.knn import KNeighbourClassifier\n",
        "\n",
        "clf = KNeighbourClassifier()\n",
        "clf.interview_questions()"
      ],
      "execution_count": 12,
      "outputs": [
        {
          "output_type": "display_data",
          "data": {
            "text/html": [
              "\n",
              "<h1> K-Nearest Neighbors Interview Questions </h1>\n",
              "\n",
              "<h2> 1. What is “K” in KNN algorithm? </h2>\n",
              "<p>\n",
              "K = Number of nearest neighbors you want to select to predict the class of a given item\n",
              "</p>\n",
              "\n",
              "<h2> 2. How do we decide the value of \"K\" in KNN algorithm? </h2>\n",
              "<p>\n",
              "If K is small, then results might not be reliable because noise will have a higher influence on the result. If K is large, then there will be a lot of processing which may adversely impact the performance of the algorithm. So, following is must be considered while choosing the value of K:\n",
              "\n",
              "a. K should be the square root of n (number of data points in training dataset)\n",
              "b. K should be odd so that there are no ties. If square root is even, then add or subtract 1 to it.\n",
              "</p>\n",
              "<h2> 3. Why is the odd value of “K” preferable in KNN algorithm? </h2>\n",
              "<p>\n",
              "K should be odd so that there are no ties in the voting. If square root of number of data points is even, then add or subtract 1 to it to make it odd.\n",
              "</p>\n",
              "<h2> 4. What is the difference between Euclidean Distance and Manhattan distance? What is the formula of Euclidean distance and Manhattan distance? </h2>\n",
              "<p>\n",
              "Both are used to find out the distance between two points. <br><br>\n",
              "  <img src=\"https://4.bp.blogspot.com/-9iDGWtgrbh0/XErhbogDiBI/AAAAAAAABLE/tAhILG2rJ68Hs88XBSi5PP0Wkxi3F-U2ACLcBGAs/s1600/Euclidean_distance_and_Manhattan_distance.PNG\">\n",
              "<br><br><br>\n",
              "Euclidean Distance and Manhattan Distance Formula <br><br>\n",
              "<img src=\"https://4.bp.blogspot.com/-Tr6BrJ4mZNw/XErlXGm8xrI/AAAAAAAABLc/ZWSmXXOrQBIyKmeO4DdPvckpUVjDFHW7wCLcBGAs/s1600/Euclidean_distance_and_Manhattan_distance_formula.PNG\">\n",
              "<br><br>\n",
              "</p>\n",
              "<h2> 5. Why is KNN algorithm called Lazy Learner? </h2>\n",
              "<p>\n",
              "When it gets the training data, it does not learn and make a model, it just stores the data. It does not derive any discriminative function from the training data. It uses the training data when it actually needs to do some prediction. So, KNN does not immediately learn a model, but delays the learning, that is why it is called lazy learner. \n",
              "</p>\n",
              "<h2>  6. Why should we not use KNN algorithm for large datasets? </h2>\n",
              "<p>\n",
              "KNN works well with smaller dataset because it is a lazy learner. It needs to store all the data and then makes decision only at run time. It needs to calculate the distance of a given point with all other points. So if dataset is large, there will be a lot of processing which may adversely impact the performance of the algorithm. \n",
              "\n",
              "KNN is also very sensitive to noise in the dataset. If the dataset is large, there are chances of noise in the dataset which adversely affect the performance of KNN algorithm.\t\n",
              "</p>\n",
              "<h3>  The questions and answers taken from: [<a href=\"http://theprofessionalspoint.blogspot.com/2019/01/knn-algorithm-in-machine-learning.html\">link</a>]</h3>\n",
              "\n",
              "<h3>  Quiz like questions: [<a href=\"https://www.analyticsvidhya.com/blog/2017/09/30-questions-test-k-nearest-neighbors-algorithm/\">link</a>] </h3>\n"
            ],
            "text/plain": [
              "<IPython.core.display.HTML object>"
            ]
          },
          "metadata": {
            "tags": []
          }
        }
      ]
    },
    {
      "cell_type": "code",
      "metadata": {
        "id": "D1rhUiFazyU_",
        "outputId": "a59fbd97-9bd6-48a0-8030-e95799fcbe3b",
        "colab": {
          "base_uri": "https://localhost:8080/",
          "height": 35
        }
      },
      "source": [
        "# View sklearn_version of the same code -- Currently not supported in Google Colab\n",
        "from ml_tutor.classification.knn import KNeighbourClassifier\n",
        "\n",
        "clf = KNeighbourClassifier()\n",
        "clf.sklearn_version()"
      ],
      "execution_count": 13,
      "outputs": [
        {
          "output_type": "execute_result",
          "data": {
            "application/vnd.google.colaboratory.intrinsic+json": {
              "type": "string"
            },
            "text/plain": [
              "'This method is not supported in Google Colab for now :/'"
            ]
          },
          "metadata": {
            "tags": []
          },
          "execution_count": 13
        }
      ]
    },
    {
      "cell_type": "markdown",
      "metadata": {
        "id": "BtWhZz5166l0"
      },
      "source": [
        "# Github Repo Link: https://github.com/lucko515/ml_tutor"
      ]
    }
  ]
}